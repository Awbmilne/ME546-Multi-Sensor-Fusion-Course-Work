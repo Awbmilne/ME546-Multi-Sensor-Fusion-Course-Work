{
 "cells": [
  {
   "cell_type": "code",
   "execution_count": 2,
   "metadata": {},
   "outputs": [
    {
     "name": "stderr",
     "output_type": "stream",
     "text": [
      "C:\\Users\\austi\\AppData\\Local\\Temp\\ipykernel_14324\\2089974285.py:3: DeprecationWarning: \n",
      "Pyarrow will become a required dependency of pandas in the next major release of pandas (pandas 3.0),\n",
      "(to allow more performant data types, such as the Arrow string type, and better interoperability with other libraries)\n",
      "but was not found to be installed on your system.\n",
      "If this would cause problems for you,\n",
      "please provide us feedback at https://github.com/pandas-dev/pandas/issues/54466\n",
      "        \n",
      "  import pandas as pd\n"
     ]
    }
   ],
   "source": [
    "import copy\n",
    "import numpy as np\n",
    "import pandas as pd\n",
    "import matplotlib.pyplot as plt\n",
    "import pathlib"
   ]
  },
  {
   "cell_type": "code",
   "execution_count": 3,
   "metadata": {},
   "outputs": [],
   "source": [
    "import json\n",
    "with open(r\"data/data.json\") as f:\n",
    "    d = json.load(f)"
   ]
  },
  {
   "cell_type": "markdown",
   "metadata": {},
   "source": [
    "# Part A"
   ]
  },
  {
   "cell_type": "code",
   "execution_count": 4,
   "metadata": {},
   "outputs": [],
   "source": [
    "pa = d[\"PartA\"]\n",
    "# Dictionary containing DataFrame of sample data\n",
    "a_samples = copy.deepcopy(pa)\n",
    "# Dictionary containing mean output voltage\n",
    "a_mov = copy.deepcopy(pa)\n",
    "for sensor in pa:\n",
    "    for distance in pa[sensor]:\n",
    "        # Crete a DataFrame for each distance\n",
    "        df = pd.DataFrame.from_dict(pa[sensor][distance])\n",
    "\n",
    "        a_samples[sensor][distance] = df\n",
    "        a_mov[sensor][distance] = df[\"data\"].mean()"
   ]
  },
  {
   "cell_type": "markdown",
   "metadata": {},
   "source": [
    "## Task 1\n",
    "For each set of measurement samples (i.e. each distance measurement) determine the mean output voltage of the measurement set."
   ]
  },
  {
   "cell_type": "code",
   "execution_count": 5,
   "metadata": {},
   "outputs": [
    {
     "name": "stdout",
     "output_type": "stream",
     "text": [
      "{'LongRange': {'111': 0.5184640386831882, '124': 0.3689632310717026, '137': 0.3822420249469433, '150': 0.3467256007239932, '20': 2.445701220004283, '33': 1.6646619965123544, '46': 1.2239577587277124, '59': 0.9182487360483935, '72': 0.7590158363789267, '85': 0.6399640741594367, '98': 0.5198589244546479}, 'MedRange': {'10': 2.381027148111653, '17': 1.4314771588898998, '24': 1.0106044217796828, '31': 0.7556558672335919, '38': 0.6095793986440426, '45': 0.4987906746961789, '52': 0.43107268168716845, '59': 0.32982912547774285, '66': 0.3493027560895615, '73': 0.32911718629546627, '80': 0.26887940305551344}, 'ShortRange': {'11.8': 0.9669924597258845, '14.4': 0.7574437697574674, '17': 0.6581877929919205, '19.6': 0.5594021643435442, '22.2': 0.4828735141097169, '24.8': 0.44248626026772875, '27.4': 0.40425415521004504, '30': 0.3265851311525521, '4': 2.609970088547235, '6.6': 1.6983261880437461, '9.2': 1.2296049598271894}}\n"
     ]
    }
   ],
   "source": [
    "# TODO\n",
    "print(a_mov)"
   ]
  },
  {
   "cell_type": "markdown",
   "metadata": {},
   "source": [
    "## Task 2\n",
    "Provide a plot of distance vs. mean output voltage for the sensor."
   ]
  },
  {
   "cell_type": "code",
   "execution_count": 6,
   "metadata": {},
   "outputs": [
    {
     "data": {
      "text/plain": [
       "WindowsPath('c:/Users/austi/Documents/School/Winter 2024/MTE 546 - Multi Sensor Data Fusion/Labs/Lab 1/Lab_1/Lab 1/out/2/LongRange')"
      ]
     },
     "execution_count": 6,
     "metadata": {},
     "output_type": "execute_result"
    }
   ],
   "source": [
    "# pathlib.PurePath.joinpath(\"out\", \"2\", \"LongRange\")\n",
    "pathlib.Path.cwd().joinpath(\"out\", \"2\", \"LongRange\")"
   ]
  },
  {
   "cell_type": "code",
   "execution_count": 7,
   "metadata": {},
   "outputs": [
    {
     "name": "stdout",
     "output_type": "stream",
     "text": [
      "c:\\Users\\austi\\Documents\\School\\Winter 2024\\MTE 546 - Multi Sensor Data Fusion\\Labs\\Lab 1\\Lab_1\\Lab 1\\out\\2\\LongRange\n"
     ]
    },
    {
     "name": "stdout",
     "output_type": "stream",
     "text": [
      "c:\\Users\\austi\\Documents\\School\\Winter 2024\\MTE 546 - Multi Sensor Data Fusion\\Labs\\Lab 1\\Lab_1\\Lab 1\\out\\2\\MedRange\n",
      "c:\\Users\\austi\\Documents\\School\\Winter 2024\\MTE 546 - Multi Sensor Data Fusion\\Labs\\Lab 1\\Lab_1\\Lab 1\\out\\2\\ShortRange\n"
     ]
    }
   ],
   "source": [
    "for k,v in a_mov.items():\n",
    "    #print(k,v)\n",
    "    # k: sensor type\n",
    "    # v: dict of with distance, MOV pairs\n",
    "    out_dir = pathlib.Path.cwd().joinpath(\"out\", \"2\")\n",
    "    out_dir.mkdir(parents=True, exist_ok=True)\n",
    "\n",
    "    s = pd.Series(v)\n",
    "    s.index = s.index.astype(\"float\")\n",
    "    s.sort_index(inplace=True)\n",
    "\n",
    "    plt.scatter(s.index, s.values)\n",
    "    out_path = out_dir.joinpath(k)\n",
    "    print(out_path)\n",
    "    plt.savefig(out_path)\n",
    "    plt.close()\n",
    "    # break\n"
   ]
  },
  {
   "cell_type": "markdown",
   "metadata": {},
   "source": [
    "## Part 6"
   ]
  },
  {
   "cell_type": "code",
   "execution_count": null,
   "metadata": {},
   "outputs": [],
   "source": []
  }
 ],
 "metadata": {
  "kernelspec": {
   "display_name": "base",
   "language": "python",
   "name": "python3"
  },
  "language_info": {
   "codemirror_mode": {
    "name": "ipython",
    "version": 3
   },
   "file_extension": ".py",
   "mimetype": "text/x-python",
   "name": "python",
   "nbconvert_exporter": "python",
   "pygments_lexer": "ipython3",
   "version": "3.12.1"
  }
 },
 "nbformat": 4,
 "nbformat_minor": 2
}
